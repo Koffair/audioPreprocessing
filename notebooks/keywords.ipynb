{
 "cells": [
  {
   "cell_type": "markdown",
   "source": [
    "# Keyword extraction"
   ],
   "metadata": {
    "collapsed": false
   }
  },
  {
   "cell_type": "code",
   "execution_count": 2,
   "outputs": [
    {
     "name": "stdout",
     "output_type": "stream",
     "text": [
      "Collecting hu-core-news-lg==any\n",
      "  Downloading https://huggingface.co/huspacy/hu_core_news_lg/resolve/main/hu_core_news_lg-any-py3-none-any.whl (401.2 MB)\n",
      "\u001B[2K     \u001B[90m━━━━━━━━━━━━━━━━━━━━━━━━━━━━━━━━━━━━━━━\u001B[0m \u001B[32m401.2/401.2 MB\u001B[0m \u001B[31m2.5 MB/s\u001B[0m eta \u001B[36m0:00:00\u001B[0m00:01\u001B[0m00:03\u001B[0m\n",
      "\u001B[?25hRequirement already satisfied: spacy<3.6.0,>=3.5.0 in /home/zoltanvarju/.local/share/virtualenvs/koffairAudioPreprocessing-WEH8uzfI/lib/python3.10/site-packages (from hu-core-news-lg==any) (3.5.2)\n",
      "Requirement already satisfied: packaging>=20.0 in /home/zoltanvarju/.local/share/virtualenvs/koffairAudioPreprocessing-WEH8uzfI/lib/python3.10/site-packages (from spacy<3.6.0,>=3.5.0->hu-core-news-lg==any) (21.3)\n",
      "Requirement already satisfied: srsly<3.0.0,>=2.4.3 in /home/zoltanvarju/.local/share/virtualenvs/koffairAudioPreprocessing-WEH8uzfI/lib/python3.10/site-packages (from spacy<3.6.0,>=3.5.0->hu-core-news-lg==any) (2.4.6)\n",
      "Requirement already satisfied: jinja2 in /home/zoltanvarju/.local/share/virtualenvs/koffairAudioPreprocessing-WEH8uzfI/lib/python3.10/site-packages (from spacy<3.6.0,>=3.5.0->hu-core-news-lg==any) (3.1.2)\n",
      "Requirement already satisfied: numpy>=1.15.0 in /home/zoltanvarju/.local/share/virtualenvs/koffairAudioPreprocessing-WEH8uzfI/lib/python3.10/site-packages (from spacy<3.6.0,>=3.5.0->hu-core-news-lg==any) (1.23.5)\n",
      "Requirement already satisfied: wasabi<1.2.0,>=0.9.1 in /home/zoltanvarju/.local/share/virtualenvs/koffairAudioPreprocessing-WEH8uzfI/lib/python3.10/site-packages (from spacy<3.6.0,>=3.5.0->hu-core-news-lg==any) (1.1.1)\n",
      "Requirement already satisfied: spacy-loggers<2.0.0,>=1.0.0 in /home/zoltanvarju/.local/share/virtualenvs/koffairAudioPreprocessing-WEH8uzfI/lib/python3.10/site-packages (from spacy<3.6.0,>=3.5.0->hu-core-news-lg==any) (1.0.4)\n",
      "Requirement already satisfied: murmurhash<1.1.0,>=0.28.0 in /home/zoltanvarju/.local/share/virtualenvs/koffairAudioPreprocessing-WEH8uzfI/lib/python3.10/site-packages (from spacy<3.6.0,>=3.5.0->hu-core-news-lg==any) (1.0.9)\n",
      "Requirement already satisfied: thinc<8.2.0,>=8.1.8 in /home/zoltanvarju/.local/share/virtualenvs/koffairAudioPreprocessing-WEH8uzfI/lib/python3.10/site-packages (from spacy<3.6.0,>=3.5.0->hu-core-news-lg==any) (8.1.10)\n",
      "Requirement already satisfied: catalogue<2.1.0,>=2.0.6 in /home/zoltanvarju/.local/share/virtualenvs/koffairAudioPreprocessing-WEH8uzfI/lib/python3.10/site-packages (from spacy<3.6.0,>=3.5.0->hu-core-news-lg==any) (2.0.8)\n",
      "Requirement already satisfied: requests<3.0.0,>=2.13.0 in /home/zoltanvarju/.local/share/virtualenvs/koffairAudioPreprocessing-WEH8uzfI/lib/python3.10/site-packages (from spacy<3.6.0,>=3.5.0->hu-core-news-lg==any) (2.30.0)\n",
      "Requirement already satisfied: smart-open<7.0.0,>=5.2.1 in /home/zoltanvarju/.local/share/virtualenvs/koffairAudioPreprocessing-WEH8uzfI/lib/python3.10/site-packages (from spacy<3.6.0,>=3.5.0->hu-core-news-lg==any) (6.3.0)\n",
      "Requirement already satisfied: preshed<3.1.0,>=3.0.2 in /home/zoltanvarju/.local/share/virtualenvs/koffairAudioPreprocessing-WEH8uzfI/lib/python3.10/site-packages (from spacy<3.6.0,>=3.5.0->hu-core-news-lg==any) (3.0.8)\n",
      "Requirement already satisfied: pydantic!=1.8,!=1.8.1,<1.11.0,>=1.7.4 in /home/zoltanvarju/.local/share/virtualenvs/koffairAudioPreprocessing-WEH8uzfI/lib/python3.10/site-packages (from spacy<3.6.0,>=3.5.0->hu-core-news-lg==any) (1.10.7)\n",
      "Requirement already satisfied: setuptools in /home/zoltanvarju/.local/share/virtualenvs/koffairAudioPreprocessing-WEH8uzfI/lib/python3.10/site-packages (from spacy<3.6.0,>=3.5.0->hu-core-news-lg==any) (67.7.2)\n",
      "Requirement already satisfied: typer<0.8.0,>=0.3.0 in /home/zoltanvarju/.local/share/virtualenvs/koffairAudioPreprocessing-WEH8uzfI/lib/python3.10/site-packages (from spacy<3.6.0,>=3.5.0->hu-core-news-lg==any) (0.7.0)\n",
      "Requirement already satisfied: pathy>=0.10.0 in /home/zoltanvarju/.local/share/virtualenvs/koffairAudioPreprocessing-WEH8uzfI/lib/python3.10/site-packages (from spacy<3.6.0,>=3.5.0->hu-core-news-lg==any) (0.10.1)\n",
      "Requirement already satisfied: cymem<2.1.0,>=2.0.2 in /home/zoltanvarju/.local/share/virtualenvs/koffairAudioPreprocessing-WEH8uzfI/lib/python3.10/site-packages (from spacy<3.6.0,>=3.5.0->hu-core-news-lg==any) (2.0.7)\n",
      "Requirement already satisfied: langcodes<4.0.0,>=3.2.0 in /home/zoltanvarju/.local/share/virtualenvs/koffairAudioPreprocessing-WEH8uzfI/lib/python3.10/site-packages (from spacy<3.6.0,>=3.5.0->hu-core-news-lg==any) (3.3.0)\n",
      "Requirement already satisfied: spacy-legacy<3.1.0,>=3.0.11 in /home/zoltanvarju/.local/share/virtualenvs/koffairAudioPreprocessing-WEH8uzfI/lib/python3.10/site-packages (from spacy<3.6.0,>=3.5.0->hu-core-news-lg==any) (3.0.12)\n",
      "Requirement already satisfied: tqdm<5.0.0,>=4.38.0 in /home/zoltanvarju/.local/share/virtualenvs/koffairAudioPreprocessing-WEH8uzfI/lib/python3.10/site-packages (from spacy<3.6.0,>=3.5.0->hu-core-news-lg==any) (4.65.0)\n",
      "Requirement already satisfied: pyparsing!=3.0.5,>=2.0.2 in /home/zoltanvarju/.local/share/virtualenvs/koffairAudioPreprocessing-WEH8uzfI/lib/python3.10/site-packages (from packaging>=20.0->spacy<3.6.0,>=3.5.0->hu-core-news-lg==any) (3.0.9)\n",
      "Requirement already satisfied: typing-extensions>=4.2.0 in /home/zoltanvarju/.local/share/virtualenvs/koffairAudioPreprocessing-WEH8uzfI/lib/python3.10/site-packages (from pydantic!=1.8,!=1.8.1,<1.11.0,>=1.7.4->spacy<3.6.0,>=3.5.0->hu-core-news-lg==any) (4.5.0)\n",
      "Requirement already satisfied: certifi>=2017.4.17 in /home/zoltanvarju/.local/share/virtualenvs/koffairAudioPreprocessing-WEH8uzfI/lib/python3.10/site-packages (from requests<3.0.0,>=2.13.0->spacy<3.6.0,>=3.5.0->hu-core-news-lg==any) (2022.12.7)\n",
      "Requirement already satisfied: idna<4,>=2.5 in /home/zoltanvarju/.local/share/virtualenvs/koffairAudioPreprocessing-WEH8uzfI/lib/python3.10/site-packages (from requests<3.0.0,>=2.13.0->spacy<3.6.0,>=3.5.0->hu-core-news-lg==any) (3.4)\n",
      "Requirement already satisfied: urllib3<3,>=1.21.1 in /home/zoltanvarju/.local/share/virtualenvs/koffairAudioPreprocessing-WEH8uzfI/lib/python3.10/site-packages (from requests<3.0.0,>=2.13.0->spacy<3.6.0,>=3.5.0->hu-core-news-lg==any) (2.0.2)\n",
      "Requirement already satisfied: charset-normalizer<4,>=2 in /home/zoltanvarju/.local/share/virtualenvs/koffairAudioPreprocessing-WEH8uzfI/lib/python3.10/site-packages (from requests<3.0.0,>=2.13.0->spacy<3.6.0,>=3.5.0->hu-core-news-lg==any) (3.1.0)\n",
      "Requirement already satisfied: blis<0.8.0,>=0.7.8 in /home/zoltanvarju/.local/share/virtualenvs/koffairAudioPreprocessing-WEH8uzfI/lib/python3.10/site-packages (from thinc<8.2.0,>=8.1.8->spacy<3.6.0,>=3.5.0->hu-core-news-lg==any) (0.7.9)\n",
      "Requirement already satisfied: confection<1.0.0,>=0.0.1 in /home/zoltanvarju/.local/share/virtualenvs/koffairAudioPreprocessing-WEH8uzfI/lib/python3.10/site-packages (from thinc<8.2.0,>=8.1.8->spacy<3.6.0,>=3.5.0->hu-core-news-lg==any) (0.0.4)\n",
      "Requirement already satisfied: click<9.0.0,>=7.1.1 in /home/zoltanvarju/.local/share/virtualenvs/koffairAudioPreprocessing-WEH8uzfI/lib/python3.10/site-packages (from typer<0.8.0,>=0.3.0->spacy<3.6.0,>=3.5.0->hu-core-news-lg==any) (8.1.3)\n",
      "Requirement already satisfied: MarkupSafe>=2.0 in /home/zoltanvarju/.local/share/virtualenvs/koffairAudioPreprocessing-WEH8uzfI/lib/python3.10/site-packages (from jinja2->spacy<3.6.0,>=3.5.0->hu-core-news-lg==any) (2.1.2)\n"
     ]
    },
    {
     "name": "stderr",
     "output_type": "stream",
     "text": [
      "\n",
      "\u001B[1m[\u001B[0m\u001B[34;49mnotice\u001B[0m\u001B[1;39;49m]\u001B[0m\u001B[39;49m A new release of pip is available: \u001B[0m\u001B[31;49m23.0.1\u001B[0m\u001B[39;49m -> \u001B[0m\u001B[32;49m23.1.2\u001B[0m\n",
      "\u001B[1m[\u001B[0m\u001B[34;49mnotice\u001B[0m\u001B[1;39;49m]\u001B[0m\u001B[39;49m To update, run: \u001B[0m\u001B[32;49mpip install --upgrade pip\u001B[0m\n"
     ]
    }
   ],
   "source": [
    "import huspacy\n",
    "huspacy.download()"
   ],
   "metadata": {
    "collapsed": false
   }
  },
  {
   "cell_type": "code",
   "execution_count": 3,
   "outputs": [],
   "source": [
    "import os\n",
    "\n",
    "data_path = \"../data/processed/transcribed_programmes\"\n",
    "text_files = [os.path.join(data_path, f) for f in os.listdir(data_path) if os.path.isfile(os.path.join(data_path, f))]"
   ],
   "metadata": {
    "collapsed": false
   }
  },
  {
   "cell_type": "code",
   "execution_count": 8,
   "outputs": [
    {
     "name": "stdout",
     "output_type": "stream",
     "text": [
      "afdas\n"
     ]
    }
   ],
   "source": [
    "from textacy.extract.keyterms.sgrank import sgrank as keywords\n",
    "\n",
    "nlp = huspacy.load()\n",
    "\n",
    "for text_file in text_files:\n",
    "    with open(text_file, \"r\") as infile:\n",
    "        txt = infile.read().strip()\n",
    "    doc = nlp(txt)\n",
    "    #TODO: kiadja a ner-eket?????\n",
    "    kws = keywords(doc, topn=10, include_pos=(\"NOUN\", \"PROPN\"),  ngrams=(1, 2, 3))\n",
    "    kws = [e[0] for e in kws]  # vagy e[1]\n",
    "    print(kws)"
   ],
   "metadata": {
    "collapsed": false
   }
  }
 ],
 "metadata": {
  "kernelspec": {
   "display_name": "Python 3",
   "language": "python",
   "name": "python3"
  },
  "language_info": {
   "codemirror_mode": {
    "name": "ipython",
    "version": 2
   },
   "file_extension": ".py",
   "mimetype": "text/x-python",
   "name": "python",
   "nbconvert_exporter": "python",
   "pygments_lexer": "ipython2",
   "version": "2.7.6"
  }
 },
 "nbformat": 4,
 "nbformat_minor": 0
}
