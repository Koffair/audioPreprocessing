{
 "cells": [
  {
   "cell_type": "markdown",
   "source": [
    "# Speech to text"
   ],
   "metadata": {
    "collapsed": false
   }
  },
  {
   "cell_type": "code",
   "execution_count": 21,
   "outputs": [],
   "source": [
    "import os\n",
    "from huggingsound import SpeechRecognitionModel"
   ],
   "metadata": {
    "collapsed": false
   }
  },
  {
   "cell_type": "code",
   "execution_count": 23,
   "outputs": [
    {
     "name": "stdout",
     "output_type": "stream",
     "text": [
      "05/05/2023 17:32:05 - INFO - huggingsound.speech_recognition.model - Loading model...\n"
     ]
    }
   ],
   "source": [
    "model_path = \"/home/zoltanvarju/PycharmProjects/colab_pipelines/models/hs\"\n",
    "model = SpeechRecognitionModel(model_path)"
   ],
   "metadata": {
    "collapsed": false
   }
  },
  {
   "cell_type": "code",
   "execution_count": null,
   "outputs": [
    {
     "name": "stderr",
     "output_type": "stream",
     "text": [
      "  0%|          | 0/50 [00:00<?, ?it/s]"
     ]
    }
   ],
   "source": [
    "speech_path = \"../data/interim/speech_segments\"\n",
    "transcription_path = \"../data/processed/speech_segments\"\n",
    "speech_segments = [os.path.join(speech_path, f) for f in os.listdir(speech_path) if os.path.isfile(os.path.join(speech_path, f))]\n",
    "for i in range(0, len(speech_segments), 50):\n",
    "    transcriptions = model.transcribe(speech_segments[i:i+50])\n",
    "    transcriptions = [e[\"transcription\"] for e in transcriptions]\n",
    "    fnames = speech_segments[i:i+50]\n",
    "    fnames = [e.split(\"/\")[-1].split(\".\")[0] for e in fnames]\n",
    "    fnames = [os.path.join(transcription_path, e) + \".txt\" for e in fnames]\n",
    "    for e in zip(fnames, transcriptions):\n",
    "        with open(e[0], \"w\") as outfile:\n",
    "            outfile.write(e[1])"
   ],
   "metadata": {
    "collapsed": false,
    "pycharm": {
     "is_executing": true
    }
   }
  }
 ],
 "metadata": {
  "kernelspec": {
   "display_name": "Python 3",
   "language": "python",
   "name": "python3"
  },
  "language_info": {
   "codemirror_mode": {
    "name": "ipython",
    "version": 2
   },
   "file_extension": ".py",
   "mimetype": "text/x-python",
   "name": "python",
   "nbconvert_exporter": "python",
   "pygments_lexer": "ipython2",
   "version": "2.7.6"
  }
 },
 "nbformat": 4,
 "nbformat_minor": 0
}
