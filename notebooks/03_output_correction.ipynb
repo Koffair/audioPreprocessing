{
 "cells": [
  {
   "cell_type": "markdown",
   "source": [
    "# Output correction"
   ],
   "metadata": {
    "collapsed": false
   }
  },
  {
   "cell_type": "code",
   "execution_count": 5,
   "outputs": [],
   "source": [
    "import floret\n",
    "model = floret.load_model(\"/home/zoltanvarju/PycharmProjects/colab_pipelines/models/lms/hufloret_.bin\")"
   ],
   "metadata": {
    "collapsed": false
   }
  },
  {
   "cell_type": "code",
   "execution_count": 13,
   "outputs": [],
   "source": [
    "import os\n",
    "\n",
    "data_path = \"../data/processed/speech_segments\"\n",
    "text_path = \"../data/processed/text_segments\"\n",
    "\n",
    "transcriptions = [os.path.join(data_path, f) for f in os.listdir(data_path) if os.path.isfile(os.path.join(data_path, f))]\n",
    "for f in transcriptions:\n",
    "    fname = f.split(\"/\")[-1]\n",
    "    with open(os.path.join(text_path, fname), \"w\") as outfile:\n",
    "        with open(f, \"r\") as infile:\n",
    "            transcript = infile.read().split()\n",
    "        corrected = []\n",
    "        for wd in transcript:\n",
    "            if wd not in model.words:\n",
    "                suggestion = model.get_nearest_neighbors(wd, 1)[0][1]\n",
    "                corrected.append(suggestion)\n",
    "            else:\n",
    "                corrected.append(wd)\n",
    "        outfile.write(\" \".join(corrected))"
   ],
   "metadata": {
    "collapsed": false
   }
  },
  {
   "cell_type": "markdown",
   "source": [
    "# Full text from segments"
   ],
   "metadata": {
    "collapsed": false
   }
  },
  {
   "cell_type": "code",
   "execution_count": 24,
   "outputs": [],
   "source": [
    "out_path = \"../data/processed/transcribed_programmes\"\n",
    "\n",
    "segments = [os.path.join(text_path, f) for f in os.listdir(text_path) if os.path.isfile(os.path.join(text_path, f))]\n",
    "\n",
    "programmes = set([e.split(\"/\")[-1].split(\"_\")[0] for e in segments])\n",
    "\n",
    "for programme in programmes:\n",
    "    # TODO: ints in fname should be same length so we can simply sort them\n",
    "    programme_segments = sorted([e for e in segments if programme in e])\n",
    "    full_text = []\n",
    "    for programme_segment in programme_segments:\n",
    "        with open(programme_segment, \"r\") as infile:\n",
    "            full_text.append(infile.read().strip())\n",
    "    fname = os.path.join(out_path, programme + \".txt\")\n",
    "    with open(fname, \"w\") as outfile:\n",
    "        outfile.write(\"\\n\".join(full_text))"
   ],
   "metadata": {
    "collapsed": false
   }
  }
 ],
 "metadata": {
  "kernelspec": {
   "display_name": "Python 3",
   "language": "python",
   "name": "python3"
  },
  "language_info": {
   "codemirror_mode": {
    "name": "ipython",
    "version": 2
   },
   "file_extension": ".py",
   "mimetype": "text/x-python",
   "name": "python",
   "nbconvert_exporter": "python",
   "pygments_lexer": "ipython2",
   "version": "2.7.6"
  }
 },
 "nbformat": 4,
 "nbformat_minor": 0
}
