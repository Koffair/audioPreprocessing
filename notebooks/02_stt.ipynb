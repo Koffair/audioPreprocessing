{
 "cells": [
  {
   "cell_type": "markdown",
   "source": [
    "# Speech to text"
   ],
   "metadata": {
    "collapsed": false
   }
  },
  {
   "cell_type": "code",
   "execution_count": 1,
   "outputs": [
    {
     "name": "stderr",
     "output_type": "stream",
     "text": [
      "2023-05-08 09:02:25.552168: I tensorflow/tsl/cuda/cudart_stub.cc:28] Could not find cuda drivers on your machine, GPU will not be used.\n",
      "2023-05-08 09:02:25.790916: I tensorflow/tsl/cuda/cudart_stub.cc:28] Could not find cuda drivers on your machine, GPU will not be used.\n",
      "2023-05-08 09:02:25.791602: I tensorflow/core/platform/cpu_feature_guard.cc:182] This TensorFlow binary is optimized to use available CPU instructions in performance-critical operations.\n",
      "To enable the following instructions: AVX2 FMA, in other operations, rebuild TensorFlow with the appropriate compiler flags.\n",
      "2023-05-08 09:02:26.763419: W tensorflow/compiler/tf2tensorrt/utils/py_utils.cc:38] TF-TRT Warning: Could not find TensorRT\n"
     ]
    }
   ],
   "source": [
    "import os\n",
    "from huggingsound import SpeechRecognitionModel"
   ],
   "metadata": {
    "collapsed": false
   }
  },
  {
   "cell_type": "code",
   "execution_count": 2,
   "outputs": [
    {
     "name": "stdout",
     "output_type": "stream",
     "text": [
      "05/08/2023 09:02:52 - INFO - huggingsound.speech_recognition.model - Loading model...\n"
     ]
    }
   ],
   "source": [
    "model_path = \"/home/zoltanvarju/PycharmProjects/colab_pipelines/models/hs\"\n",
    "model = SpeechRecognitionModel(model_path)"
   ],
   "metadata": {
    "collapsed": false
   }
  },
  {
   "cell_type": "code",
   "execution_count": null,
   "outputs": [
    {
     "name": "stderr",
     "output_type": "stream",
     "text": [
      " 30%|███       | 15/50 [06:26<07:26, 12.76s/it] "
     ]
    }
   ],
   "source": [
    "speech_path = \"../data/interim/speech_segments\"\n",
    "transcription_path = \"../data/processed/speech_segments\"\n",
    "speech_segments = [os.path.join(speech_path, f) for f in os.listdir(speech_path) if os.path.isfile(os.path.join(speech_path, f))]\n",
    "for i in range(0, len(speech_segments), 50):\n",
    "    transcriptions = model.transcribe(speech_segments[i:i+50])\n",
    "    transcriptions = [e[\"transcription\"] for e in transcriptions]\n",
    "    fnames = speech_segments[i:i+50]\n",
    "    fnames = [e.split(\"/\")[-1].split(\".\")[0] for e in fnames]\n",
    "    fnames = [os.path.join(transcription_path, e) + \".txt\" for e in fnames]\n",
    "    for e in zip(fnames, transcriptions):\n",
    "        with open(e[0], \"w\") as outfile:\n",
    "            outfile.write(e[1])\n",
    "            print(f\"{e[0]} has been processed\")"
   ],
   "metadata": {
    "collapsed": false,
    "pycharm": {
     "is_executing": true
    }
   }
  }
 ],
 "metadata": {
  "kernelspec": {
   "display_name": "Python 3",
   "language": "python",
   "name": "python3"
  },
  "language_info": {
   "codemirror_mode": {
    "name": "ipython",
    "version": 2
   },
   "file_extension": ".py",
   "mimetype": "text/x-python",
   "name": "python",
   "nbconvert_exporter": "python",
   "pygments_lexer": "ipython2",
   "version": "2.7.6"
  }
 },
 "nbformat": 4,
 "nbformat_minor": 0
}
